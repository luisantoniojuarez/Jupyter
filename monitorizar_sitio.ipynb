import requests
import smtplib
from bs4 import BeautifulSoup
import time
import urllib.parse

# URL del sitio web que deseas monitorizar
url = "https://www.lagaceta.com.ar/"

# Selector CSS para el elemento body
element_selector = 'body'

# Variable para almacenar las URL de las imágenes anteriores
imagenes_anteriores = set()

# Lista de direcciones de correo electrónico a las que deseas enviar la notificación
emails_destinatarios = ["juarezluisantonio@gmail.com", "luisantoniojuarez81@hotmail.com"]
# Configura tus credenciales de correo electrónico
email_address = "notificaciones.formar@gmail.com"
email_password = "mwxlxbctdzhguuwe"

# Variable para controlar la primera ejecución
primer_ejecucion = True

# Función para obtener las URL de las imágenes dentro del body
def get_image_urls(body_element):
    image_urls = set()
    for img in body_element.find_all('img'):
        src = img.get('src')
        if src:
            image_urls.add(src)
    return image_urls

# Función para enviar un correo electrónico a múltiples destinatarios con CCO
def send_email(subject, body):
    try:
        server = smtplib.SMTP("smtp.gmail.com", 587)
        server.starttls()
        server.login(email_address, email_password)

        # Lista de destinatarios, incluyendo el principal y los CCO
        destinatarios = [email_address] + emails_destinatarios

        for destinatario in destinatarios:
            # Construye el mensaje con el texto deseado
            message = f"Subject: {subject}\nTo: {destinatario}\nBcc: {','.join(emails_destinatarios)}\n\n{body}"

            # Usamos UTF-8 para manejar caracteres no ASCII
            message = message.encode('utf-8')

            # Envía el mensaje
            server.sendmail(email_address, destinatario, message)

        server.quit()
    except Exception as e:
        print("Error al enviar el correo electrónico:", str(e))

# Función para verificar el sitio web en busca de cambios en las imágenes
def check_website():
    global imagenes_anteriores, primer_ejecucion
    while True:
        try:
            response = requests.get(url)
            soup = BeautifulSoup(response.text, "html.parser")
            body_element = soup.select_one(element_selector)

            # Obtiene las URL de las imágenes actuales dentro del body
            imagenes_actuales = get_image_urls(body_element)

            # Compara con las URL de las imágenes anteriores
            cambios = imagenes_actuales.difference(imagenes_anteriores)

            # Si hay cambios y no es la primera ejecución, notifica por correo electrónico
            if cambios and not primer_ejecucion:
                print("Se han detectado cambios en las imágenes:", cambios)

                # Construye el mensaje de notificación con codificación UTF-8
                subject = "Nuevos cursos en Formar:"
                body = f"Visita el sitio para más información: {url}\n\n"

                # Agrega las URL de las imágenes al cuerpo del correo sin codificarlas
                for url_imagen in cambios:
                    body += f"• {url_imagen}\n\n"

                send_email(subject, body)

                imagenes_anteriores = imagenes_actuales
            else:
                # Si es la primera ejecución, actualiza la variable
                primer_ejecucion = False

            time.sleep(10)  # Verificar cada 10 segundos
        except Exception as e:
            print("Error al verificar el sitio web:", str(e))

# Llama a la función para comenzar a monitorear
check_website()
